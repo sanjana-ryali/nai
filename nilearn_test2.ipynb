{
 "cells": [
  {
   "cell_type": "code",
   "execution_count": 1,
   "metadata": {},
   "outputs": [],
   "source": [
    "# This line allows plotting directly in the notebook\n",
    "%matplotlib inline\n",
    "\n",
    "# Python scientific package\n",
    "import numpy as np\n",
    "\n",
    "from nilearn import datasets\n",
    "from nilearn import plotting"
   ]
  },
  {
   "cell_type": "code",
   "execution_count": 6,
   "metadata": {},
   "outputs": [],
   "source": [
    "# We specify the site and number of subjects we want to download\n",
    "abide = datasets.fetch_abide_pcp(derivatives=['func_preproc'],\n",
    "                        SITE_ID=['NYU'],\n",
    "                        n_subjects=3)"
   ]
  },
  {
   "cell_type": "code",
   "execution_count": 7,
   "metadata": {},
   "outputs": [],
   "source": [
    "# make list of filenames\n",
    "fmri_filenames = abide.func_preproc\n",
    "\n",
    "# load atlas\n",
    "multiscale = datasets.fetch_atlas_basc_multiscale_2015()"
   ]
  },
  {
   "cell_type": "code",
   "execution_count": 14,
   "metadata": {},
   "outputs": [],
   "source": [
    "atlas_filename = multiscale.scale064"
   ]
  },
  {
   "cell_type": "code",
   "execution_count": 15,
   "metadata": {},
   "outputs": [
    {
     "data": {
      "text/plain": [
       "'/Users/htamvada/nilearn_data/basc_multiscale_2015/template_cambridge_basc_multiscale_nii_sym/template_cambridge_basc_multiscale_sym_scale064.nii.gz'"
      ]
     },
     "execution_count": 15,
     "metadata": {},
     "output_type": "execute_result"
    }
   ],
   "source": [
    "atlas_filename"
   ]
  },
  {
   "cell_type": "code",
   "execution_count": 8,
   "metadata": {},
   "outputs": [],
   "source": [
    "networks_64 = multiscale['scale064']"
   ]
  },
  {
   "cell_type": "code",
   "execution_count": 17,
   "metadata": {},
   "outputs": [],
   "source": [
    "from nilearn.input_data import NiftiLabelsMasker\n",
    "masker = NiftiLabelsMasker(labels_img=atlas_filename,\n",
    "                               standardize=True,\n",
    "                               memory='nilearn_cache',\n",
    "                               verbose=0)"
   ]
  },
  {
   "cell_type": "code",
   "execution_count": 9,
   "metadata": {},
   "outputs": [
    {
     "data": {
      "text/plain": [
       "['/Users/htamvada/nilearn_data/ABIDE_pcp/cpac/nofilt_noglobal/NYU_0050952_func_preproc.nii.gz',\n",
       " '/Users/htamvada/nilearn_data/ABIDE_pcp/cpac/nofilt_noglobal/NYU_0050954_func_preproc.nii.gz',\n",
       " '/Users/htamvada/nilearn_data/ABIDE_pcp/cpac/nofilt_noglobal/NYU_0050955_func_preproc.nii.gz']"
      ]
     },
     "execution_count": 9,
     "metadata": {},
     "output_type": "execute_result"
    }
   ],
   "source": [
    "fmri_filenames"
   ]
  },
  {
   "cell_type": "code",
   "execution_count": 25,
   "metadata": {},
   "outputs": [],
   "source": [
    "import pandas as pd\n",
    "abide_pheno = pd.DataFrame(abide.phenotypic)\n",
    "dx_group = abide_pheno['DX_GROUP']\n",
    "file_id = abide_pheno['FILE_ID']"
   ]
  },
  {
   "cell_type": "code",
   "execution_count": 24,
   "metadata": {},
   "outputs": [
    {
     "data": {
      "text/html": [
       "<div>\n",
       "<style scoped>\n",
       "    .dataframe tbody tr th:only-of-type {\n",
       "        vertical-align: middle;\n",
       "    }\n",
       "\n",
       "    .dataframe tbody tr th {\n",
       "        vertical-align: top;\n",
       "    }\n",
       "\n",
       "    .dataframe thead th {\n",
       "        text-align: right;\n",
       "    }\n",
       "</style>\n",
       "<table border=\"1\" class=\"dataframe\">\n",
       "  <thead>\n",
       "    <tr style=\"text-align: right;\">\n",
       "      <th></th>\n",
       "      <th>i</th>\n",
       "      <th>Unnamed_0</th>\n",
       "      <th>SUB_ID</th>\n",
       "      <th>X</th>\n",
       "      <th>subject</th>\n",
       "      <th>SITE_ID</th>\n",
       "      <th>FILE_ID</th>\n",
       "      <th>DX_GROUP</th>\n",
       "      <th>DSM_IV_TR</th>\n",
       "      <th>AGE_AT_SCAN</th>\n",
       "      <th>...</th>\n",
       "      <th>qc_notes_rater_1</th>\n",
       "      <th>qc_anat_rater_2</th>\n",
       "      <th>qc_anat_notes_rater_2</th>\n",
       "      <th>qc_func_rater_2</th>\n",
       "      <th>qc_func_notes_rater_2</th>\n",
       "      <th>qc_anat_rater_3</th>\n",
       "      <th>qc_anat_notes_rater_3</th>\n",
       "      <th>qc_func_rater_3</th>\n",
       "      <th>qc_func_notes_rater_3</th>\n",
       "      <th>SUB_IN_SMP</th>\n",
       "    </tr>\n",
       "  </thead>\n",
       "  <tbody>\n",
       "    <tr>\n",
       "      <th>0</th>\n",
       "      <td>643</td>\n",
       "      <td>644</td>\n",
       "      <td>50952</td>\n",
       "      <td>644</td>\n",
       "      <td>50952</td>\n",
       "      <td>b'NYU'</td>\n",
       "      <td>b'NYU_0050952'</td>\n",
       "      <td>1</td>\n",
       "      <td>1</td>\n",
       "      <td>8.74</td>\n",
       "      <td>...</td>\n",
       "      <td>b''</td>\n",
       "      <td>b'OK'</td>\n",
       "      <td>b''</td>\n",
       "      <td>b'OK'</td>\n",
       "      <td>b''</td>\n",
       "      <td>b'OK'</td>\n",
       "      <td>b''</td>\n",
       "      <td>b'OK'</td>\n",
       "      <td>b''</td>\n",
       "      <td>0</td>\n",
       "    </tr>\n",
       "    <tr>\n",
       "      <th>1</th>\n",
       "      <td>645</td>\n",
       "      <td>646</td>\n",
       "      <td>50954</td>\n",
       "      <td>646</td>\n",
       "      <td>50954</td>\n",
       "      <td>b'NYU'</td>\n",
       "      <td>b'NYU_0050954'</td>\n",
       "      <td>1</td>\n",
       "      <td>1</td>\n",
       "      <td>14.75</td>\n",
       "      <td>...</td>\n",
       "      <td>b''</td>\n",
       "      <td>b'OK'</td>\n",
       "      <td>b''</td>\n",
       "      <td>b'OK'</td>\n",
       "      <td>b''</td>\n",
       "      <td>b'OK'</td>\n",
       "      <td>b''</td>\n",
       "      <td>b'OK'</td>\n",
       "      <td>b''</td>\n",
       "      <td>0</td>\n",
       "    </tr>\n",
       "    <tr>\n",
       "      <th>2</th>\n",
       "      <td>646</td>\n",
       "      <td>647</td>\n",
       "      <td>50955</td>\n",
       "      <td>647</td>\n",
       "      <td>50955</td>\n",
       "      <td>b'NYU'</td>\n",
       "      <td>b'NYU_0050955'</td>\n",
       "      <td>1</td>\n",
       "      <td>1</td>\n",
       "      <td>12.64</td>\n",
       "      <td>...</td>\n",
       "      <td>b''</td>\n",
       "      <td>b'OK'</td>\n",
       "      <td>b''</td>\n",
       "      <td>b'OK'</td>\n",
       "      <td>b''</td>\n",
       "      <td>b'OK'</td>\n",
       "      <td>b''</td>\n",
       "      <td>b'OK'</td>\n",
       "      <td>b''</td>\n",
       "      <td>0</td>\n",
       "    </tr>\n",
       "  </tbody>\n",
       "</table>\n",
       "<p>3 rows × 106 columns</p>\n",
       "</div>"
      ],
      "text/plain": [
       "     i  Unnamed_0  SUB_ID    X  subject SITE_ID         FILE_ID  DX_GROUP  \\\n",
       "0  643        644   50952  644    50952  b'NYU'  b'NYU_0050952'         1   \n",
       "1  645        646   50954  646    50954  b'NYU'  b'NYU_0050954'         1   \n",
       "2  646        647   50955  647    50955  b'NYU'  b'NYU_0050955'         1   \n",
       "\n",
       "   DSM_IV_TR  AGE_AT_SCAN  ...  qc_notes_rater_1 qc_anat_rater_2  \\\n",
       "0          1         8.74  ...               b''           b'OK'   \n",
       "1          1        14.75  ...               b''           b'OK'   \n",
       "2          1        12.64  ...               b''           b'OK'   \n",
       "\n",
       "   qc_anat_notes_rater_2  qc_func_rater_2  qc_func_notes_rater_2  \\\n",
       "0                    b''            b'OK'                    b''   \n",
       "1                    b''            b'OK'                    b''   \n",
       "2                    b''            b'OK'                    b''   \n",
       "\n",
       "   qc_anat_rater_3 qc_anat_notes_rater_3 qc_func_rater_3  \\\n",
       "0            b'OK'                   b''           b'OK'   \n",
       "1            b'OK'                   b''           b'OK'   \n",
       "2            b'OK'                   b''           b'OK'   \n",
       "\n",
       "  qc_func_notes_rater_3  SUB_IN_SMP  \n",
       "0                   b''           0  \n",
       "1                   b''           0  \n",
       "2                   b''           0  \n",
       "\n",
       "[3 rows x 106 columns]"
      ]
     },
     "execution_count": 24,
     "metadata": {},
     "output_type": "execute_result"
    }
   ],
   "source": [
    "abide_pheno"
   ]
  },
  {
   "cell_type": "code",
   "execution_count": 26,
   "metadata": {},
   "outputs": [
    {
     "data": {
      "text/plain": [
       "0    1\n",
       "1    1\n",
       "2    1\n",
       "Name: DX_GROUP, dtype: int64"
      ]
     },
     "execution_count": 26,
     "metadata": {},
     "output_type": "execute_result"
    }
   ],
   "source": [
    "dx_group"
   ]
  },
  {
   "cell_type": "code",
   "execution_count": 27,
   "metadata": {},
   "outputs": [
    {
     "data": {
      "text/plain": [
       "0    b'NYU_0050952'\n",
       "1    b'NYU_0050954'\n",
       "2    b'NYU_0050955'\n",
       "Name: FILE_ID, dtype: object"
      ]
     },
     "execution_count": 27,
     "metadata": {},
     "output_type": "execute_result"
    }
   ],
   "source": [
    "file_id"
   ]
  },
  {
   "cell_type": "code",
   "execution_count": 28,
   "metadata": {},
   "outputs": [
    {
     "name": "stdout",
     "output_type": "stream",
     "text": [
      "0 /Users/htamvada/nilearn_data/ABIDE_pcp/cpac/nofilt_noglobal/NYU_0050952_func_preproc.nii.gz 1 b'NYU_0050952'\n",
      "1 /Users/htamvada/nilearn_data/ABIDE_pcp/cpac/nofilt_noglobal/NYU_0050954_func_preproc.nii.gz 1 b'NYU_0050954'\n",
      "2 /Users/htamvada/nilearn_data/ABIDE_pcp/cpac/nofilt_noglobal/NYU_0050955_func_preproc.nii.gz 1 b'NYU_0050955'\n"
     ]
    }
   ],
   "source": [
    "for i,sub in enumerate(fmri_filenames):\n",
    "    # extract the timeseries from the ROIs in the atlas\n",
    "    time_series = masker.fit_transform(sub)\n",
    "    dx_group = abide_pheno['DX_GROUP'][i]\n",
    "    file_id = abide_pheno['FILE_ID'][i]\n",
    "    print(i, sub, dx_group, file_id)"
   ]
  },
  {
   "cell_type": "code",
   "execution_count": 20,
   "metadata": {},
   "outputs": [],
   "source": [
    "time_series_tmp = masker.fit_transform(fmri_filenames[0])"
   ]
  },
  {
   "cell_type": "code",
   "execution_count": 21,
   "metadata": {},
   "outputs": [
    {
     "data": {
      "text/plain": [
       "array([[-0.58203209, -0.81307455, -0.02622164, ..., -0.8474225 ,\n",
       "        -1.20306258, -0.87869499],\n",
       "       [-0.71292302, -0.65213125, -0.15985603, ...,  0.88756832,\n",
       "         0.53820956,  0.52771991],\n",
       "       [ 0.01928614,  0.25331518,  0.48188819, ...,  0.08542901,\n",
       "         0.96847003,  0.30205947],\n",
       "       ...,\n",
       "       [-0.86653645, -0.69904775,  0.16388542, ..., -0.4304955 ,\n",
       "        -0.80675684, -1.00037332],\n",
       "       [-0.9387295 , -1.39512376, -1.74003048, ..., -1.86929745,\n",
       "        -0.37412736, -2.64054576],\n",
       "       [ 0.13420583, -0.1304135 ,  0.85864155, ..., -0.0042526 ,\n",
       "         0.30492236, -0.8100021 ]])"
      ]
     },
     "execution_count": 21,
     "metadata": {},
     "output_type": "execute_result"
    }
   ],
   "source": [
    "time_series_tmp"
   ]
  },
  {
   "cell_type": "code",
   "execution_count": 15,
   "metadata": {},
   "outputs": [
    {
     "data": {
      "text/plain": [
       "<nilearn.plotting.displays.OrthoSlicer at 0x1154303a0>"
      ]
     },
     "execution_count": 15,
     "metadata": {},
     "output_type": "execute_result"
    },
    {
     "data": {
      "image/png": "[encoded data removed]",
      "text/plain": [
       "<Figure size 475.2x187.2 with 4 Axes>"
      ]
     },
     "metadata": {},
     "output_type": "display_data"
    }
   ],
   "source": [
    "# The coordinates of all plots are selected automatically by itself\n",
    "# We manually change the colormap of our choice\n",
    "plotting.plot_roi(networks_64, cmap=plotting.cm.bwr,\n",
    "                  title='64 regions of brain clusters')"
   ]
  },
  {
   "cell_type": "code",
   "execution_count": 7,
   "metadata": {},
   "outputs": [
    {
     "data": {
      "text/plain": [
       "'/Users/htamvada/nilearn_data/basc_multiscale_2015/template_cambridge_basc_multiscale_nii_sym/template_cambridge_basc_multiscale_sym_scale064.nii.gz'"
      ]
     },
     "execution_count": 7,
     "metadata": {},
     "output_type": "execute_result"
    }
   ],
   "source": [
    "networks_64"
   ]
  },
  {
   "cell_type": "code",
   "execution_count": 8,
   "metadata": {},
   "outputs": [],
   "source": [
    "s64 = datasets.fetch_atlas_basc_multiscale_2015().scale064"
   ]
  },
  {
   "cell_type": "code",
   "execution_count": 9,
   "metadata": {},
   "outputs": [
    {
     "data": {
      "text/plain": [
       "'/Users/htamvada/nilearn_data/basc_multiscale_2015/template_cambridge_basc_multiscale_nii_sym/template_cambridge_basc_multiscale_sym_scale064.nii.gz'"
      ]
     },
     "execution_count": 9,
     "metadata": {},
     "output_type": "execute_result"
    }
   ],
   "source": [
    "s64"
   ]
  },
  {
   "cell_type": "code",
   "execution_count": 11,
   "metadata": {},
   "outputs": [
    {
     "data": {
      "text/plain": [
       "<nilearn.plotting.displays.OrthoSlicer at 0x113b0b5e0>"
      ]
     },
     "execution_count": 11,
     "metadata": {},
     "output_type": "execute_result"
    },
    {
     "data": {
      "image/png": "[encoded data removed]",
      "text/plain": [
       "<Figure size 475.2x187.2 with 4 Axes>"
      ]
     },
     "metadata": {},
     "output_type": "display_data"
    }
   ],
   "source": [
    "plotting.plot_img(networks_64)"
   ]
  },
  {
   "cell_type": "code",
   "execution_count": null,
   "metadata": {},
   "outputs": [],
   "source": []
  }
 ],
 "metadata": {
  "kernelspec": {
   "display_name": "Python 3",
   "language": "python",
   "name": "python3"
  },
  "language_info": {
   "codemirror_mode": {
    "name": "ipython",
    "version": 3
   },
   "file_extension": ".py",
   "mimetype": "text/x-python",
   "name": "python",
   "nbconvert_exporter": "python",
   "pygments_lexer": "ipython3",
   "version": "3.8.5"
  }
 },
 "nbformat": 4,
 "nbformat_minor": 4
}
