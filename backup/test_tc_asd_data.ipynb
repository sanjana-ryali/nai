{
 "cells": [
  {
   "cell_type": "code",
   "execution_count": 1,
   "metadata": {},
   "outputs": [],
   "source": [
    "from nilearn import datasets\n",
    "from nilearn.input_data import NiftiLabelsMasker\n",
    "from nilearn.connectome import ConnectivityMeasure\n",
    "from argparse import ArgumentParser\n",
    "import numpy as np\n",
    "from sklearn.decomposition import PCA\n",
    "import os\n",
    "import pandas as pd"
   ]
  },
  {
   "cell_type": "code",
   "execution_count": 3,
   "metadata": {},
   "outputs": [],
   "source": [
    "X_features_autism = np.load('/Users/htamvada/nai/ABIDE_BASC064_features_autism.npz')['a']"
   ]
  },
  {
   "cell_type": "code",
   "execution_count": 5,
   "metadata": {},
   "outputs": [],
   "source": [
    "X_features_tc = np.load('/Users/htamvada/nai/ABIDE_BASC064_features_control.npz')['a']"
   ]
  },
  {
   "cell_type": "code",
   "execution_count": 4,
   "metadata": {},
   "outputs": [
    {
     "data": {
      "text/plain": [
       "array([[ 0.651508  ,  0.36743073,  0.31826976, ...,  0.56326686,\n",
       "         0.53300758,  0.54327946],\n",
       "       [ 0.53258726,  0.3377011 ,  0.49584742, ...,  0.40197062,\n",
       "         0.18363887,  0.457722  ],\n",
       "       [ 0.4190768 ,  0.2041985 ,  0.33218378, ...,  0.78088126,\n",
       "         0.34119973,  0.56367589],\n",
       "       ...,\n",
       "       [ 0.60767136,  0.13870343,  0.21027113, ...,  0.32434371,\n",
       "         0.05419067,  0.42023549],\n",
       "       [ 0.11514753,  0.03477415,  0.03612913, ...,  0.39019805,\n",
       "        -0.09443257, -0.06281977],\n",
       "       [ 0.4149792 ,  0.28418048,  0.35910961, ...,  0.66591602,\n",
       "         0.25099767,  0.36904969]])"
      ]
     },
     "execution_count": 4,
     "metadata": {},
     "output_type": "execute_result"
    }
   ],
   "source": [
    "X_features_autism"
   ]
  },
  {
   "cell_type": "code",
   "execution_count": 6,
   "metadata": {},
   "outputs": [
    {
     "data": {
      "text/plain": [
       "array([[0.3089524 , 0.41506519, 0.34344241, ..., 0.34394775, 0.19770962,\n",
       "        0.33813792],\n",
       "       [0.45673358, 0.23029698, 0.45499508, ..., 0.58113984, 0.44081285,\n",
       "        0.42632925],\n",
       "       [0.11097829, 0.13960301, 0.19106427, ..., 0.49927641, 0.4186226 ,\n",
       "        0.43612735],\n",
       "       ...,\n",
       "       [0.53368545, 0.4426942 , 0.47357833, ..., 0.65242681, 0.42112456,\n",
       "        0.67832885],\n",
       "       [0.25540516, 0.15075596, 0.08014499, ..., 0.39999619, 0.07996469,\n",
       "        0.46157103],\n",
       "       [0.44154821, 0.40106848, 0.47627743, ..., 0.46389197, 0.37536077,\n",
       "        0.48640972]])"
      ]
     },
     "execution_count": 6,
     "metadata": {},
     "output_type": "execute_result"
    }
   ],
   "source": [
    "X_features_tc"
   ]
  },
  {
   "cell_type": "code",
   "execution_count": null,
   "metadata": {},
   "outputs": [],
   "source": []
  }
 ],
 "metadata": {
  "kernelspec": {
   "display_name": "Python 3",
   "language": "python",
   "name": "python3"
  },
  "language_info": {
   "codemirror_mode": {
    "name": "ipython",
    "version": 3
   },
   "file_extension": ".py",
   "mimetype": "text/x-python",
   "name": "python",
   "nbconvert_exporter": "python",
   "pygments_lexer": "ipython3",
   "version": "3.8.5"
  }
 },
 "nbformat": 4,
 "nbformat_minor": 4
}
