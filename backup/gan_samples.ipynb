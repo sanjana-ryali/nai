{
 "cells": [
  {
   "cell_type": "code",
   "execution_count": 2,
   "metadata": {},
   "outputs": [],
   "source": [
    "from nilearn import datasets\n",
    "from nilearn.input_data import NiftiLabelsMasker\n",
    "from nilearn.connectome import ConnectivityMeasure\n",
    "from argparse import ArgumentParser\n",
    "import numpy as np\n",
    "from sklearn.decomposition import PCA\n",
    "import os\n",
    "import pandas as pd"
   ]
  },
  {
   "cell_type": "code",
   "execution_count": 3,
   "metadata": {},
   "outputs": [],
   "source": [
    "feat_file = os.path.join('/users/htamvada/nai', 'ABIDE_BASC064_features.npz')"
   ]
  },
  {
   "cell_type": "code",
   "execution_count": 4,
   "metadata": {},
   "outputs": [],
   "source": [
    "X_features = np.load(feat_file)['a']"
   ]
  },
  {
   "cell_type": "code",
   "execution_count": 5,
   "metadata": {},
   "outputs": [
    {
     "data": {
      "text/plain": [
       "array([[ 0.651508  ,  0.36743073,  0.31826976, ...,  0.56326686,\n",
       "         0.53300758,  0.54327946],\n",
       "       [ 0.53258726,  0.3377011 ,  0.49584742, ...,  0.40197062,\n",
       "         0.18363887,  0.457722  ],\n",
       "       [ 0.4190768 ,  0.2041985 ,  0.33218378, ...,  0.78088126,\n",
       "         0.34119973,  0.56367589],\n",
       "       ...,\n",
       "       [ 0.60767136,  0.13870343,  0.21027113, ...,  0.32434371,\n",
       "         0.05419067,  0.42023549],\n",
       "       [ 0.11514753,  0.03477415,  0.03612913, ...,  0.39019805,\n",
       "        -0.09443257, -0.06281977],\n",
       "       [ 0.4149792 ,  0.28418048,  0.35910961, ...,  0.66591602,\n",
       "         0.25099767,  0.36904969]])"
      ]
     },
     "execution_count": 5,
     "metadata": {},
     "output_type": "execute_result"
    }
   ],
   "source": [
    "X_features"
   ]
  },
  {
   "cell_type": "code",
   "execution_count": 6,
   "metadata": {},
   "outputs": [
    {
     "data": {
      "text/plain": [
       "(871, 2016)"
      ]
     },
     "execution_count": 6,
     "metadata": {},
     "output_type": "execute_result"
    }
   ],
   "source": [
    "X_features.shape"
   ]
  },
  {
   "cell_type": "code",
   "execution_count": 7,
   "metadata": {},
   "outputs": [],
   "source": [
    "df = pd.DataFrame(X_features)"
   ]
  },
  {
   "cell_type": "code",
   "execution_count": 15,
   "metadata": {},
   "outputs": [],
   "source": [
    "small_data = df.iloc[0:10, 1:10]"
   ]
  },
  {
   "cell_type": "code",
   "execution_count": 16,
   "metadata": {},
   "outputs": [
    {
     "data": {
      "text/html": [
       "<div>\n",
       "<style scoped>\n",
       "    .dataframe tbody tr th:only-of-type {\n",
       "        vertical-align: middle;\n",
       "    }\n",
       "\n",
       "    .dataframe tbody tr th {\n",
       "        vertical-align: top;\n",
       "    }\n",
       "\n",
       "    .dataframe thead th {\n",
       "        text-align: right;\n",
       "    }\n",
       "</style>\n",
       "<table border=\"1\" class=\"dataframe\">\n",
       "  <thead>\n",
       "    <tr style=\"text-align: right;\">\n",
       "      <th></th>\n",
       "      <th>1</th>\n",
       "      <th>2</th>\n",
       "      <th>3</th>\n",
       "      <th>4</th>\n",
       "      <th>5</th>\n",
       "      <th>6</th>\n",
       "      <th>7</th>\n",
       "      <th>8</th>\n",
       "      <th>9</th>\n",
       "    </tr>\n",
       "  </thead>\n",
       "  <tbody>\n",
       "    <tr>\n",
       "      <th>0</th>\n",
       "      <td>0.367431</td>\n",
       "      <td>0.318270</td>\n",
       "      <td>0.637305</td>\n",
       "      <td>0.511556</td>\n",
       "      <td>0.535779</td>\n",
       "      <td>0.250618</td>\n",
       "      <td>0.242679</td>\n",
       "      <td>0.377106</td>\n",
       "      <td>0.466410</td>\n",
       "    </tr>\n",
       "    <tr>\n",
       "      <th>1</th>\n",
       "      <td>0.337701</td>\n",
       "      <td>0.495847</td>\n",
       "      <td>0.530000</td>\n",
       "      <td>0.535753</td>\n",
       "      <td>0.396727</td>\n",
       "      <td>0.100174</td>\n",
       "      <td>0.227899</td>\n",
       "      <td>0.061893</td>\n",
       "      <td>0.097763</td>\n",
       "    </tr>\n",
       "    <tr>\n",
       "      <th>2</th>\n",
       "      <td>0.204199</td>\n",
       "      <td>0.332184</td>\n",
       "      <td>0.484521</td>\n",
       "      <td>0.321207</td>\n",
       "      <td>0.472287</td>\n",
       "      <td>0.069561</td>\n",
       "      <td>0.140427</td>\n",
       "      <td>0.402594</td>\n",
       "      <td>0.334525</td>\n",
       "    </tr>\n",
       "    <tr>\n",
       "      <th>3</th>\n",
       "      <td>0.339643</td>\n",
       "      <td>0.248837</td>\n",
       "      <td>0.630810</td>\n",
       "      <td>0.461284</td>\n",
       "      <td>0.407353</td>\n",
       "      <td>0.144066</td>\n",
       "      <td>0.138546</td>\n",
       "      <td>0.211755</td>\n",
       "      <td>0.165723</td>\n",
       "    </tr>\n",
       "    <tr>\n",
       "      <th>4</th>\n",
       "      <td>0.452801</td>\n",
       "      <td>0.654130</td>\n",
       "      <td>0.720536</td>\n",
       "      <td>0.708731</td>\n",
       "      <td>0.616826</td>\n",
       "      <td>0.000000</td>\n",
       "      <td>0.000000</td>\n",
       "      <td>0.000000</td>\n",
       "      <td>0.000000</td>\n",
       "    </tr>\n",
       "    <tr>\n",
       "      <th>5</th>\n",
       "      <td>0.221897</td>\n",
       "      <td>0.260489</td>\n",
       "      <td>0.589988</td>\n",
       "      <td>0.422082</td>\n",
       "      <td>0.310526</td>\n",
       "      <td>0.000000</td>\n",
       "      <td>0.000000</td>\n",
       "      <td>0.000000</td>\n",
       "      <td>0.000000</td>\n",
       "    </tr>\n",
       "    <tr>\n",
       "      <th>6</th>\n",
       "      <td>0.119757</td>\n",
       "      <td>0.430921</td>\n",
       "      <td>0.567313</td>\n",
       "      <td>0.388425</td>\n",
       "      <td>0.329984</td>\n",
       "      <td>0.045539</td>\n",
       "      <td>0.182808</td>\n",
       "      <td>0.236261</td>\n",
       "      <td>0.115112</td>\n",
       "    </tr>\n",
       "    <tr>\n",
       "      <th>7</th>\n",
       "      <td>0.377636</td>\n",
       "      <td>0.374157</td>\n",
       "      <td>0.561212</td>\n",
       "      <td>0.502432</td>\n",
       "      <td>0.432471</td>\n",
       "      <td>0.000000</td>\n",
       "      <td>0.000000</td>\n",
       "      <td>0.000000</td>\n",
       "      <td>0.000000</td>\n",
       "    </tr>\n",
       "    <tr>\n",
       "      <th>8</th>\n",
       "      <td>0.407434</td>\n",
       "      <td>0.394317</td>\n",
       "      <td>0.735514</td>\n",
       "      <td>0.565761</td>\n",
       "      <td>0.500832</td>\n",
       "      <td>0.085684</td>\n",
       "      <td>-0.042570</td>\n",
       "      <td>0.235138</td>\n",
       "      <td>0.171282</td>\n",
       "    </tr>\n",
       "    <tr>\n",
       "      <th>9</th>\n",
       "      <td>0.518792</td>\n",
       "      <td>0.547602</td>\n",
       "      <td>0.735926</td>\n",
       "      <td>0.677047</td>\n",
       "      <td>0.583227</td>\n",
       "      <td>-0.002159</td>\n",
       "      <td>0.065576</td>\n",
       "      <td>0.066766</td>\n",
       "      <td>0.138146</td>\n",
       "    </tr>\n",
       "  </tbody>\n",
       "</table>\n",
       "</div>"
      ],
      "text/plain": [
       "          1         2         3         4         5         6         7  \\\n",
       "0  0.367431  0.318270  0.637305  0.511556  0.535779  0.250618  0.242679   \n",
       "1  0.337701  0.495847  0.530000  0.535753  0.396727  0.100174  0.227899   \n",
       "2  0.204199  0.332184  0.484521  0.321207  0.472287  0.069561  0.140427   \n",
       "3  0.339643  0.248837  0.630810  0.461284  0.407353  0.144066  0.138546   \n",
       "4  0.452801  0.654130  0.720536  0.708731  0.616826  0.000000  0.000000   \n",
       "5  0.221897  0.260489  0.589988  0.422082  0.310526  0.000000  0.000000   \n",
       "6  0.119757  0.430921  0.567313  0.388425  0.329984  0.045539  0.182808   \n",
       "7  0.377636  0.374157  0.561212  0.502432  0.432471  0.000000  0.000000   \n",
       "8  0.407434  0.394317  0.735514  0.565761  0.500832  0.085684 -0.042570   \n",
       "9  0.518792  0.547602  0.735926  0.677047  0.583227 -0.002159  0.065576   \n",
       "\n",
       "          8         9  \n",
       "0  0.377106  0.466410  \n",
       "1  0.061893  0.097763  \n",
       "2  0.402594  0.334525  \n",
       "3  0.211755  0.165723  \n",
       "4  0.000000  0.000000  \n",
       "5  0.000000  0.000000  \n",
       "6  0.236261  0.115112  \n",
       "7  0.000000  0.000000  \n",
       "8  0.235138  0.171282  \n",
       "9  0.066766  0.138146  "
      ]
     },
     "execution_count": 16,
     "metadata": {},
     "output_type": "execute_result"
    }
   ],
   "source": [
    "small_data"
   ]
  },
  {
   "cell_type": "code",
   "execution_count": 17,
   "metadata": {},
   "outputs": [],
   "source": [
    "from ctgan import CTGANSynthesizer\n",
    "ctgan = CTGANSynthesizer(epochs=10)"
   ]
  },
  {
   "cell_type": "code",
   "execution_count": 18,
   "metadata": {},
   "outputs": [
    {
     "name": "stderr",
     "output_type": "stream",
     "text": [
      "/Users/htamvada/opt/anaconda3/lib/python3.8/site-packages/sklearn/mixture/_base.py:146: ConvergenceWarning: Number of distinct clusters (8) found smaller than n_clusters (10). Possibly due to duplicate points in X.\n",
      "  label = cluster.KMeans(n_clusters=self.n_components, n_init=1,\n",
      "/Users/htamvada/opt/anaconda3/lib/python3.8/site-packages/sklearn/mixture/_base.py:146: ConvergenceWarning: Number of distinct clusters (8) found smaller than n_clusters (10). Possibly due to duplicate points in X.\n",
      "  label = cluster.KMeans(n_clusters=self.n_components, n_init=1,\n",
      "/Users/htamvada/opt/anaconda3/lib/python3.8/site-packages/sklearn/mixture/_base.py:146: ConvergenceWarning: Number of distinct clusters (8) found smaller than n_clusters (10). Possibly due to duplicate points in X.\n",
      "  label = cluster.KMeans(n_clusters=self.n_components, n_init=1,\n",
      "/Users/htamvada/opt/anaconda3/lib/python3.8/site-packages/sklearn/mixture/_base.py:146: ConvergenceWarning: Number of distinct clusters (8) found smaller than n_clusters (10). Possibly due to duplicate points in X.\n",
      "  label = cluster.KMeans(n_clusters=self.n_components, n_init=1,\n"
     ]
    }
   ],
   "source": [
    "ctgan.fit(small_data)"
   ]
  },
  {
   "cell_type": "code",
   "execution_count": 19,
   "metadata": {},
   "outputs": [],
   "source": [
    "samples = ctgan.sample(3)"
   ]
  },
  {
   "cell_type": "code",
   "execution_count": 20,
   "metadata": {},
   "outputs": [
    {
     "data": {
      "text/html": [
       "<div>\n",
       "<style scoped>\n",
       "    .dataframe tbody tr th:only-of-type {\n",
       "        vertical-align: middle;\n",
       "    }\n",
       "\n",
       "    .dataframe tbody tr th {\n",
       "        vertical-align: top;\n",
       "    }\n",
       "\n",
       "    .dataframe thead th {\n",
       "        text-align: right;\n",
       "    }\n",
       "</style>\n",
       "<table border=\"1\" class=\"dataframe\">\n",
       "  <thead>\n",
       "    <tr style=\"text-align: right;\">\n",
       "      <th></th>\n",
       "      <th>1</th>\n",
       "      <th>2</th>\n",
       "      <th>3</th>\n",
       "      <th>4</th>\n",
       "      <th>5</th>\n",
       "      <th>6</th>\n",
       "      <th>7</th>\n",
       "      <th>8</th>\n",
       "      <th>9</th>\n",
       "    </tr>\n",
       "  </thead>\n",
       "  <tbody>\n",
       "    <tr>\n",
       "      <th>0</th>\n",
       "      <td>0.442340</td>\n",
       "      <td>0.359444</td>\n",
       "      <td>0.436171</td>\n",
       "      <td>0.330800</td>\n",
       "      <td>0.196415</td>\n",
       "      <td>-0.078592</td>\n",
       "      <td>0.204227</td>\n",
       "      <td>-0.198397</td>\n",
       "      <td>0.560013</td>\n",
       "    </tr>\n",
       "    <tr>\n",
       "      <th>1</th>\n",
       "      <td>0.391009</td>\n",
       "      <td>0.295728</td>\n",
       "      <td>0.564703</td>\n",
       "      <td>0.515968</td>\n",
       "      <td>0.334562</td>\n",
       "      <td>-0.022365</td>\n",
       "      <td>0.357952</td>\n",
       "      <td>-0.210135</td>\n",
       "      <td>0.257017</td>\n",
       "    </tr>\n",
       "    <tr>\n",
       "      <th>2</th>\n",
       "      <td>0.109537</td>\n",
       "      <td>0.188822</td>\n",
       "      <td>0.693231</td>\n",
       "      <td>0.387123</td>\n",
       "      <td>0.422118</td>\n",
       "      <td>-0.054843</td>\n",
       "      <td>0.227513</td>\n",
       "      <td>-0.143489</td>\n",
       "      <td>0.128700</td>\n",
       "    </tr>\n",
       "  </tbody>\n",
       "</table>\n",
       "</div>"
      ],
      "text/plain": [
       "          1         2         3         4         5         6         7  \\\n",
       "0  0.442340  0.359444  0.436171  0.330800  0.196415 -0.078592  0.204227   \n",
       "1  0.391009  0.295728  0.564703  0.515968  0.334562 -0.022365  0.357952   \n",
       "2  0.109537  0.188822  0.693231  0.387123  0.422118 -0.054843  0.227513   \n",
       "\n",
       "          8         9  \n",
       "0 -0.198397  0.560013  \n",
       "1 -0.210135  0.257017  \n",
       "2 -0.143489  0.128700  "
      ]
     },
     "execution_count": 20,
     "metadata": {},
     "output_type": "execute_result"
    }
   ],
   "source": [
    "samples"
   ]
  },
  {
   "cell_type": "code",
   "execution_count": null,
   "metadata": {},
   "outputs": [],
   "source": []
  }
 ],
 "metadata": {
  "kernelspec": {
   "display_name": "Python 3",
   "language": "python",
   "name": "python3"
  },
  "language_info": {
   "codemirror_mode": {
    "name": "ipython",
    "version": 3
   },
   "file_extension": ".py",
   "mimetype": "text/x-python",
   "name": "python",
   "nbconvert_exporter": "python",
   "pygments_lexer": "ipython3",
   "version": "3.8.5"
  }
 },
 "nbformat": 4,
 "nbformat_minor": 4
}
