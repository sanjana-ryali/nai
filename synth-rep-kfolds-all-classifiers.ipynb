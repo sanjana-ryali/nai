{
 "cells": [
  {
   "cell_type": "markdown",
   "metadata": {},
   "source": [
    "# Repeated k-folds (with augmented data)\n",
    "This notebook will implement a Repeated k-fold. Repeated Kfold would create multiple combinations of train-test split.\n",
    "This notebook uses a combination of synthentic + real data.\n",
    "\n",
    "**Step 1**: Load the dataset into a pandas dataframe to extract all unique SITE_ID values."
   ]
  },
  {
   "cell_type": "code",
   "execution_count": 50,
   "metadata": {},
   "outputs": [
    {
     "name": "stderr",
     "output_type": "stream",
     "text": [
      "/Users/htamvada/opt/anaconda3/lib/python3.8/site-packages/numpy/lib/npyio.py:2372: VisibleDeprecationWarning: Reading unicode strings without specifying the encoding argument is deprecated. Set the encoding, use None for the system default.\n",
      "  output = genfromtxt(fname, **kwargs)\n"
     ]
    }
   ],
   "source": [
    "#Import modules for this step\n",
    "from nilearn import datasets\n",
    "import pandas as pd\n",
    "import os\n",
    "\n",
    "#Fetch data using nilearn.datasets.fetch\n",
    "abide = datasets.fetch_abide_pcp(data_dir=os.path.join(os.sep,\"/Users/htamvada/nai\"),\n",
    "                                 pipeline=\"cpac\",\n",
    "                                 quality_checked=True)\n",
    "\n",
    "#Load phenotypic data into pandas dataframe\n",
    "abide_pheno = pd.DataFrame(abide.phenotypic)\n",
    "\n",
    "#Create array to hold unique site names\n",
    "#groups = abide_pheno.SITE_ID.unique()\n",
    "\n",
    "groups = []\n",
    "for s in abide_pheno.SITE_ID:\n",
    "    groups.append(s.decode())\n",
    "\n",
    "for i in range(200):\n",
    "    groups.append('SYNTH')"
   ]
  },
  {
   "cell_type": "markdown",
   "metadata": {},
   "source": [
    "**Step 2**: Define the dataset split using built-in scikit-learn methods. In this case, I am using sklearn.model_selection.StratifiedKFold."
   ]
  },
  {
   "cell_type": "code",
   "execution_count": 51,
   "metadata": {},
   "outputs": [
    {
     "name": "stdout",
     "output_type": "stream",
     "text": [
      "Loading dataset...\n",
      "Stacked synthetic and original features  (1071, 2016)\n",
      "Running PCA...\n"
     ]
    },
    {
     "data": {
      "text/plain": [
       "20"
      ]
     },
     "execution_count": 51,
     "metadata": {},
     "output_type": "execute_result"
    }
   ],
   "source": [
    "#Import modules \n",
    "import numpy as np \n",
    "from sklearn.model_selection import RepeatedKFold\n",
    "import prepare_data\n",
    "import os\n",
    "\n",
    "#Define data and output directories \n",
    "data_dir = os.path.join(os.sep,\"/Users/htamvada/nai\")\n",
    "output_dir = data_dir\n",
    "\n",
    "X, y = prepare_data.fetch_generated_data(data_dir,output_dir)\n",
    "\n",
    "logo = RepeatedKFold(n_splits=10, n_repeats=2, random_state=2652124)\n",
    "logo.get_n_splits(X, y)"
   ]
  },
  {
   "cell_type": "code",
   "execution_count": 52,
   "metadata": {},
   "outputs": [
    {
     "data": {
      "text/plain": [
       "(1071, 686)"
      ]
     },
     "execution_count": 52,
     "metadata": {},
     "output_type": "execute_result"
    }
   ],
   "source": [
    "X.shape"
   ]
  },
  {
   "cell_type": "code",
   "execution_count": 53,
   "metadata": {},
   "outputs": [
    {
     "data": {
      "text/plain": [
       "1071"
      ]
     },
     "execution_count": 53,
     "metadata": {},
     "output_type": "execute_result"
    }
   ],
   "source": [
    "len(groups)"
   ]
  },
  {
   "cell_type": "code",
   "execution_count": 54,
   "metadata": {},
   "outputs": [
    {
     "data": {
      "text/plain": [
       "1071"
      ]
     },
     "execution_count": 54,
     "metadata": {},
     "output_type": "execute_result"
    }
   ],
   "source": [
    "len(y)"
   ]
  },
  {
   "cell_type": "markdown",
   "metadata": {},
   "source": [
    "**Step 3:** Choosing which machine learning classifier to use. We will try four different classifiers in this script.\n",
    "\n",
    "**Step 3.1:** Support Vector Machines (SVM) - LinearSVC"
   ]
  },
  {
   "cell_type": "code",
   "execution_count": 55,
   "metadata": {},
   "outputs": [
    {
     "name": "stdout",
     "output_type": "stream",
     "text": [
      "----------------------------------------------------\n",
      "StratifiedKFold with Linear Support Vector Classification\n",
      "----------------------------------------------------\n",
      "Training model  1\n",
      "Training model  2\n",
      "Training model  3\n",
      "Training model  4\n",
      "Training model  5\n",
      "Training model  6\n",
      "Training model  7\n",
      "Training model  8\n",
      "Training model  9\n",
      "Training model  10\n",
      "Training model  11\n",
      "Training model  12\n",
      "Training model  13\n",
      "Training model  14\n",
      "Training model  15\n",
      "Training model  16\n",
      "Training model  17\n",
      "Training model  18\n",
      "Training model  19\n",
      "Training model  20\n",
      "Finished training.\n",
      "\n",
      "Accuracy score for model 1   0.7129629629629629\n",
      "Accuracy score for model 2   0.7009345794392523\n",
      "Accuracy score for model 3   0.7570093457943925\n",
      "Accuracy score for model 4   0.7289719626168224\n",
      "Accuracy score for model 5   0.7289719626168224\n",
      "Accuracy score for model 6   0.7009345794392523\n",
      "Accuracy score for model 7   0.6635514018691588\n",
      "Accuracy score for model 8   0.6355140186915887\n",
      "Accuracy score for model 9   0.6542056074766355\n",
      "Accuracy score for model 10   0.7289719626168224\n",
      "Accuracy score for model 11   0.7222222222222222\n",
      "Accuracy score for model 12   0.6448598130841121\n",
      "Accuracy score for model 13   0.6728971962616822\n",
      "Accuracy score for model 14   0.7476635514018691\n",
      "Accuracy score for model 15   0.6355140186915887\n",
      "Accuracy score for model 16   0.6542056074766355\n",
      "Accuracy score for model 17   0.7009345794392523\n",
      "Accuracy score for model 18   0.7663551401869159\n",
      "Accuracy score for model 19   0.5981308411214953\n",
      "Accuracy score for model 20   0.6542056074766355\n",
      "\n",
      "Average accuracy score for all models:  0.6904508480443059\n",
      "Maximum accuracy score of all models:  0.7663551401869159\n",
      "Minimum accuracy score of all models:  0.5981308411214953\n"
     ]
    }
   ],
   "source": [
    "from sklearn.svm import LinearSVC\n",
    "import statistics\n",
    "print(\"----------------------------------------------------\")\n",
    "print(\"StratifiedKFold with Linear Support Vector Classification\")\n",
    "print(\"----------------------------------------------------\")\n",
    "\n",
    "l_svc = LinearSVC(max_iter=10000)\n",
    "\n",
    "accuracy = []\n",
    "count = 0\n",
    "for train_index, test_index in logo.split(X,y): \n",
    "    count += 1\n",
    "    X_train, X_test = X[train_index], X[test_index]\n",
    "    y_train, y_test = y[train_index], y[test_index]\n",
    "    print(\"Training model \",count)\n",
    "    #print(\"TRAIN:\", train_index, \"TEST:\", test_index)\n",
    "    l_svc.fit(X_train,y_train)\n",
    "    acc_score = l_svc.score(X_test, y_test)\n",
    "    accuracy.append(acc_score)\n",
    "\n",
    "print(\"Finished training.\\n\")\n",
    "\n",
    "#Mean accuracy of self.predict(X) with regard to y for each model\n",
    "index = 0\n",
    "for a in accuracy: \n",
    "    index += 1\n",
    "    print(\"Accuracy score for model\", index, \" \", a)\n",
    "\n",
    "#Report the average accuracy for all models \n",
    "print(\"\\nAverage accuracy score for all models: \", statistics.mean(accuracy))\n",
    "print(\"Maximum accuracy score of all models: \", max(accuracy))\n",
    "print(\"Minimum accuracy score of all models: \", min(accuracy))"
   ]
  },
  {
   "cell_type": "markdown",
   "metadata": {},
   "source": [
    "**Step 3.2:** k-Nearest Neighbors - KNeighborsClassifier"
   ]
  },
  {
   "cell_type": "code",
   "execution_count": 56,
   "metadata": {},
   "outputs": [
    {
     "name": "stdout",
     "output_type": "stream",
     "text": [
      "--------------------------------------------------\n",
      "GroupKFold with K-Nearest Neighbors Classification\n",
      "--------------------------------------------------\n",
      "Training model  1\n",
      "Training model  2\n",
      "Training model  3\n",
      "Training model  4\n",
      "Training model  5\n",
      "Training model  6\n",
      "Training model  7\n",
      "Training model  8\n",
      "Training model  9\n",
      "Training model  10\n",
      "Training model  11\n",
      "Training model  12\n",
      "Training model  13\n",
      "Training model  14\n",
      "Training model  15\n",
      "Training model  16\n",
      "Training model  17\n",
      "Training model  18\n",
      "Training model  19\n",
      "Training model  20\n",
      "Finished training.\n",
      "\n",
      "Accuracy score for model 1   0.49074074074074076\n",
      "Accuracy score for model 2   0.4672897196261682\n",
      "Accuracy score for model 3   0.5327102803738317\n",
      "Accuracy score for model 4   0.48598130841121495\n",
      "Accuracy score for model 5   0.45794392523364486\n",
      "Accuracy score for model 6   0.6074766355140186\n",
      "Accuracy score for model 7   0.4392523364485981\n",
      "Accuracy score for model 8   0.5887850467289719\n",
      "Accuracy score for model 9   0.5607476635514018\n",
      "Accuracy score for model 10   0.4485981308411215\n",
      "Accuracy score for model 11   0.5277777777777778\n",
      "Accuracy score for model 12   0.514018691588785\n",
      "Accuracy score for model 13   0.5700934579439252\n",
      "Accuracy score for model 14   0.4953271028037383\n",
      "Accuracy score for model 15   0.5700934579439252\n",
      "Accuracy score for model 16   0.5327102803738317\n",
      "Accuracy score for model 17   0.48598130841121495\n",
      "Accuracy score for model 18   0.514018691588785\n",
      "Accuracy score for model 19   0.4205607476635514\n",
      "Accuracy score for model 20   0.4672897196261682\n",
      "\n",
      "Average accuracy score for all models:  0.5088698511595707\n",
      "Maximum accuracy score of all models:  0.6074766355140186\n",
      "Minimum accuracy score of all models:  0.4205607476635514\n"
     ]
    }
   ],
   "source": [
    "from sklearn.neighbors import KNeighborsClassifier\n",
    "import statistics\n",
    "print(\"--------------------------------------------------\")\n",
    "print(\"GroupKFold with K-Nearest Neighbors Classification\")\n",
    "print(\"--------------------------------------------------\")\n",
    "\n",
    "knn = KNeighborsClassifier()\n",
    "\n",
    "accuracy = []\n",
    "count = 0\n",
    "for train_index, test_index in logo.split(X,y,groups): \n",
    "    count += 1\n",
    "    X_train, X_test = X[train_index], X[test_index]\n",
    "    y_train, y_test = y[train_index], y[test_index]\n",
    "    print(\"Training model \",count)\n",
    "    knn.fit(X_train,y_train)\n",
    "    acc_score = knn.score(X_test, y_test)\n",
    "    accuracy.append(acc_score)\n",
    "\n",
    "print(\"Finished training.\\n\")\n",
    "\n",
    "#Mean accuracy of self.predict(X) with regard to y for each model\n",
    "index = 0\n",
    "for a in accuracy: \n",
    "    index += 1\n",
    "    print(\"Accuracy score for model\", index, \" \", a)\n",
    "\n",
    "#Report the average accuracy for all models \n",
    "print(\"\\nAverage accuracy score for all models: \", statistics.mean(accuracy))\n",
    "print(\"Maximum accuracy score of all models: \", max(accuracy))\n",
    "print(\"Minimum accuracy score of all models: \", min(accuracy))"
   ]
  },
  {
   "cell_type": "markdown",
   "metadata": {},
   "source": [
    "**Step 3.3:** Decision Tree - DecisionTreeClassifier"
   ]
  },
  {
   "cell_type": "code",
   "execution_count": 57,
   "metadata": {},
   "outputs": [
    {
     "name": "stdout",
     "output_type": "stream",
     "text": [
      "--------------------------------------------\n",
      "GroupKFold with Decision Tree Classification\n",
      "--------------------------------------------\n",
      "Training model  1\n",
      "Training model  2\n",
      "Training model  3\n",
      "Training model  4\n",
      "Training model  5\n",
      "Training model  6\n",
      "Training model  7\n",
      "Training model  8\n",
      "Training model  9\n",
      "Training model  10\n",
      "Training model  11\n",
      "Training model  12\n",
      "Training model  13\n",
      "Training model  14\n",
      "Training model  15\n",
      "Training model  16\n",
      "Training model  17\n",
      "Training model  18\n",
      "Training model  19\n",
      "Training model  20\n",
      "Finished training.\n",
      "\n",
      "Accuracy score for model 1   0.6018518518518519\n",
      "Accuracy score for model 2   0.6074766355140186\n",
      "Accuracy score for model 3   0.6074766355140186\n",
      "Accuracy score for model 4   0.6261682242990654\n",
      "Accuracy score for model 5   0.5607476635514018\n",
      "Accuracy score for model 6   0.6261682242990654\n",
      "Accuracy score for model 7   0.5981308411214953\n",
      "Accuracy score for model 8   0.616822429906542\n",
      "Accuracy score for model 9   0.5794392523364486\n",
      "Accuracy score for model 10   0.6635514018691588\n",
      "Accuracy score for model 11   0.6018518518518519\n",
      "Accuracy score for model 12   0.6822429906542056\n",
      "Accuracy score for model 13   0.5420560747663551\n",
      "Accuracy score for model 14   0.5420560747663551\n",
      "Accuracy score for model 15   0.6542056074766355\n",
      "Accuracy score for model 16   0.6542056074766355\n",
      "Accuracy score for model 17   0.5514018691588785\n",
      "Accuracy score for model 18   0.6074766355140186\n",
      "Accuracy score for model 19   0.6355140186915887\n",
      "Accuracy score for model 20   0.6261682242990654\n",
      "\n",
      "Average accuracy score for all models:  0.6092506057459328\n",
      "Maximum accuracy score of all models:  0.6822429906542056\n",
      "Minimum accuracy score of all models:  0.5420560747663551\n"
     ]
    }
   ],
   "source": [
    "from sklearn.tree import DecisionTreeClassifier\n",
    "import statistics\n",
    "print(\"--------------------------------------------\")\n",
    "print(\"GroupKFold with Decision Tree Classification\")\n",
    "print(\"--------------------------------------------\")\n",
    "\n",
    "dt = DecisionTreeClassifier()\n",
    "\n",
    "accuracy = []\n",
    "count = 0\n",
    "for train_index, test_index in logo.split(X,y,groups): \n",
    "    count += 1\n",
    "    X_train, X_test = X[train_index], X[test_index]\n",
    "    y_train, y_test = y[train_index], y[test_index]\n",
    "    print(\"Training model \",count)\n",
    "    dt.fit(X_train,y_train)\n",
    "    acc_score = dt.score(X_test, y_test)\n",
    "    accuracy.append(acc_score)\n",
    "\n",
    "print(\"Finished training.\\n\")\n",
    "\n",
    "#Mean accuracy of self.predict(X) with regard to y for each model\n",
    "index = 0\n",
    "for a in accuracy: \n",
    "    index += 1\n",
    "    print(\"Accuracy score for model\", index, \" \", a)\n",
    "\n",
    "#Report the average accuracy for all models \n",
    "print(\"\\nAverage accuracy score for all models: \", statistics.mean(accuracy))\n",
    "print(\"Maximum accuracy score of all models: \", max(accuracy))\n",
    "print(\"Minimum accuracy score of all models: \", min(accuracy))"
   ]
  },
  {
   "cell_type": "markdown",
   "metadata": {},
   "source": [
    "**Step 3.4:** Random Forests - RandomForestClassifier"
   ]
  },
  {
   "cell_type": "code",
   "execution_count": 58,
   "metadata": {},
   "outputs": [
    {
     "name": "stdout",
     "output_type": "stream",
     "text": [
      "--------------------------------------------\n",
      "GroupKFold with Random Forest Classification\n",
      "--------------------------------------------\n",
      "Training model  1\n",
      "Training model  2\n",
      "Training model  3\n",
      "Training model  4\n",
      "Training model  5\n",
      "Training model  6\n",
      "Training model  7\n",
      "Training model  8\n",
      "Training model  9\n",
      "Training model  10\n",
      "Training model  11\n",
      "Training model  12\n",
      "Training model  13\n",
      "Training model  14\n",
      "Training model  15\n",
      "Training model  16\n",
      "Training model  17\n",
      "Training model  18\n",
      "Training model  19\n",
      "Training model  20\n",
      "Finished training.\n",
      "\n",
      "Accuracy score for model 1   0.6111111111111112\n",
      "Accuracy score for model 2   0.5794392523364486\n",
      "Accuracy score for model 3   0.6542056074766355\n",
      "Accuracy score for model 4   0.5981308411214953\n",
      "Accuracy score for model 5   0.6542056074766355\n",
      "Accuracy score for model 6   0.514018691588785\n",
      "Accuracy score for model 7   0.6074766355140186\n",
      "Accuracy score for model 8   0.6635514018691588\n",
      "Accuracy score for model 9   0.6915887850467289\n",
      "Accuracy score for model 10   0.6728971962616822\n",
      "Accuracy score for model 11   0.6574074074074074\n",
      "Accuracy score for model 12   0.6074766355140186\n",
      "Accuracy score for model 13   0.5794392523364486\n",
      "Accuracy score for model 14   0.616822429906542\n",
      "Accuracy score for model 15   0.5794392523364486\n",
      "Accuracy score for model 16   0.5794392523364486\n",
      "Accuracy score for model 17   0.6448598130841121\n",
      "Accuracy score for model 18   0.6261682242990654\n",
      "Accuracy score for model 19   0.5420560747663551\n",
      "Accuracy score for model 20   0.7850467289719626\n",
      "\n",
      "Average accuracy score for all models:  0.6232390100380755\n",
      "Maximum accuracy score of all models:  0.7850467289719626\n",
      "Minimum accuracy score of all models:  0.514018691588785\n"
     ]
    }
   ],
   "source": [
    "from sklearn.ensemble import RandomForestClassifier\n",
    "import statistics\n",
    "print(\"--------------------------------------------\")\n",
    "print(\"GroupKFold with Random Forest Classification\")\n",
    "print(\"--------------------------------------------\")\n",
    "\n",
    "rf = RandomForestClassifier()\n",
    "\n",
    "accuracy = []\n",
    "count = 0\n",
    "for train_index, test_index in logo.split(X,y,groups): \n",
    "    count += 1\n",
    "    X_train, X_test = X[train_index], X[test_index]\n",
    "    y_train, y_test = y[train_index], y[test_index]\n",
    "    print(\"Training model \",count)\n",
    "    rf.fit(X_train,y_train)\n",
    "    acc_score = rf.score(X_test, y_test)\n",
    "    accuracy.append(acc_score)\n",
    "\n",
    "print(\"Finished training.\\n\")\n",
    "\n",
    "#Mean accuracy of self.predict(X) with regard to y for each model\n",
    "index = 0\n",
    "for a in accuracy: \n",
    "    index += 1\n",
    "    print(\"Accuracy score for model\", index, \" \", a)\n",
    "\n",
    "#Report the average accuracy for all models \n",
    "print(\"\\nAverage accuracy score for all models: \", statistics.mean(accuracy))\n",
    "print(\"Maximum accuracy score of all models: \", max(accuracy))\n",
    "print(\"Minimum accuracy score of all models: \", min(accuracy))"
   ]
  },
  {
   "cell_type": "code",
   "execution_count": null,
   "metadata": {},
   "outputs": [],
   "source": []
  }
 ],
 "metadata": {
  "kernelspec": {
   "display_name": "Python 3",
   "language": "python",
   "name": "python3"
  },
  "language_info": {
   "codemirror_mode": {
    "name": "ipython",
    "version": 3
   },
   "file_extension": ".py",
   "mimetype": "text/x-python",
   "name": "python",
   "nbconvert_exporter": "python",
   "pygments_lexer": "ipython3",
   "version": "3.8.5"
  }
 },
 "nbformat": 4,
 "nbformat_minor": 4
}
