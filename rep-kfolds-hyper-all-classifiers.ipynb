{
 "cells": [
  {
   "cell_type": "markdown",
   "metadata": {},
   "source": [
    "# Repeated k-folds\n",
    "This notebook will implement a k-fold iterator variant on non-overlapping groups.\n",
    "\n",
    "**Step 1**: Load the dataset into a pandas dataframe to extract all unique SITE_ID values."
   ]
  },
  {
   "cell_type": "code",
   "execution_count": 2,
   "metadata": {},
   "outputs": [
    {
     "name": "stderr",
     "output_type": "stream",
     "text": [
      "/home/ubuntu/anaconda3/lib/python3.7/site-packages/numpy/lib/npyio.py:2405: VisibleDeprecationWarning: Reading unicode strings without specifying the encoding argument is deprecated. Set the encoding, use None for the system default.\n",
      "  output = genfromtxt(fname, **kwargs)\n"
     ]
    }
   ],
   "source": [
    "#Import modules for this step\n",
    "from nilearn import datasets\n",
    "import pandas as pd\n",
    "import os\n",
    "\n",
    "#Fetch data using nilearn.datasets.fetch\n",
    "abide = datasets.fetch_abide_pcp(data_dir=os.path.join(os.sep,\"/home/ubuntu/nai\"),\n",
    "                                 pipeline=\"cpac\",\n",
    "                                 quality_checked=True)\n",
    "\n",
    "#Load phenotypic data into pandas dataframe\n",
    "abide_pheno = pd.DataFrame(abide.phenotypic)\n",
    "\n",
    "#Create array to hold unique site names\n",
    "#groups = abide_pheno.SITE_ID.unique()\n",
    "\n",
    "groups = []\n",
    "for s in abide_pheno.SITE_ID:\n",
    "    groups.append(s.decode())"
   ]
  },
  {
   "cell_type": "markdown",
   "metadata": {},
   "source": [
    "**Step 2**: Define the dataset split using built-in scikit-learn methods. In this case, I am using sklearn.model_selection.GroupKFold."
   ]
  },
  {
   "cell_type": "code",
   "execution_count": 4,
   "metadata": {},
   "outputs": [
    {
     "name": "stdout",
     "output_type": "stream",
     "text": [
      "Loading dataset...\n"
     ]
    },
    {
     "name": "stderr",
     "output_type": "stream",
     "text": [
      "/home/ubuntu/anaconda3/lib/python3.7/site-packages/numpy/lib/npyio.py:2405: VisibleDeprecationWarning: Reading unicode strings without specifying the encoding argument is deprecated. Set the encoding, use None for the system default.\n",
      "  output = genfromtxt(fname, **kwargs)\n"
     ]
    },
    {
     "name": "stdout",
     "output_type": "stream",
     "text": [
      "Feature file found.\n",
      "Running PCA...\n"
     ]
    },
    {
     "data": {
      "text/plain": [
       "10"
      ]
     },
     "execution_count": 4,
     "metadata": {},
     "output_type": "execute_result"
    }
   ],
   "source": [
    "#Import modules \n",
    "import numpy as np \n",
    "from sklearn.model_selection import GroupKFold\n",
    "import prepare_data\n",
    "import os\n",
    "from sklearn.svm import LinearSVC\n",
    "import statistics\n",
    "\n",
    "#Define data and output directories \n",
    "data_dir = os.path.join(os.sep,\"/home/ubuntu/nai\")\n",
    "output_dir = data_dir\n",
    "\n",
    "X, y = prepare_data.prepare_data(data_dir,output_dir)\n",
    "\n",
    "logo = GroupKFold(n_splits=10)\n",
    "logo.get_n_splits(X, y, groups)"
   ]
  },
  {
   "cell_type": "markdown",
   "metadata": {},
   "source": [
    "**Step 3:** Choosing which machine learning classifier to use. We will try four different classifiers in this script.\n",
    "\n",
    "**Step 3.1:** Support Vector Machines (SVM) - LinearSVC"
   ]
  },
  {
   "cell_type": "code",
   "execution_count": 5,
   "metadata": {},
   "outputs": [
    {
     "name": "stdout",
     "output_type": "stream",
     "text": [
      "----------------------------------------------------\n",
      "RepeatedKFold with Linear Support Vector Classification\n",
      "----------------------------------------------------\n",
      "Training model  1\n",
      "Training model  2\n",
      "Training model  3\n",
      "Training model  4\n",
      "Training model  5\n",
      "Training model  6\n",
      "Training model  7\n",
      "Training model  8\n",
      "Training model  9\n",
      "Training model  10\n",
      "Finished training.\n",
      "\n",
      "Accuracy score for model 1   0.6046511627906976\n",
      "Accuracy score for model 2   0.686046511627907\n",
      "Accuracy score for model 3   0.6666666666666666\n",
      "Accuracy score for model 4   0.5822784810126582\n",
      "Accuracy score for model 5   0.72\n",
      "Accuracy score for model 6   0.5277777777777778\n",
      "Accuracy score for model 7   0.676056338028169\n",
      "Accuracy score for model 8   0.6956521739130435\n",
      "Accuracy score for model 9   0.6626506024096386\n",
      "Accuracy score for model 10   0.5232558139534884\n",
      "\n",
      "Average accuracy score for all models:  0.6345035528180046\n",
      "Maximum accuracy score of all models:  0.72\n",
      "Minimum accuracy score of all models:  0.5232558139534884\n"
     ]
    }
   ],
   "source": [
    "print(\"----------------------------------------------------\")\n",
    "print(\"RepeatedKFold with Linear Support Vector Classification\")\n",
    "print(\"----------------------------------------------------\")\n",
    "\n",
    "l_svc = LinearSVC(max_iter=10000)\n",
    "\n",
    "accuracy = []\n",
    "count = 0\n",
    "for train_index, test_index in logo.split(X,y,groups): \n",
    "    count += 1\n",
    "    X_train, X_test = X[train_index], X[test_index]\n",
    "    y_train, y_test = y[train_index], y[test_index]\n",
    "    print(\"Training model \",count)\n",
    "    l_svc.fit(X_train,y_train)\n",
    "    acc_score = l_svc.score(X_test, y_test)\n",
    "    accuracy.append(acc_score)\n",
    "\n",
    "print(\"Finished training.\\n\")\n",
    "\n",
    "#Mean accuracy of self.predict(X) with regard to y for each model\n",
    "index = 0\n",
    "for a in accuracy: \n",
    "    index += 1\n",
    "    print(\"Accuracy score for model\", index, \" \", a)\n",
    "\n",
    "#Report the average accuracy for all models \n",
    "print(\"\\nAverage accuracy score for all models: \", statistics.mean(accuracy))\n",
    "print(\"Maximum accuracy score of all models: \", max(accuracy))\n",
    "print(\"Minimum accuracy score of all models: \", min(accuracy))"
   ]
  },
  {
   "cell_type": "code",
   "execution_count": 6,
   "metadata": {},
   "outputs": [],
   "source": [
    "from sklearn.model_selection import GridSearchCV\n",
    "# Function returning the best estimator\n",
    "\n",
    "def best_estimator(model, param_grid, X, y, cv):\n",
    "    grid = GridSearchCV (model, param_grid, cv=cv)\n",
    "    grid.fit(X, y)\n",
    "    model_best= grid.best_estimator_\n",
    "    param_best= grid.best_params_\n",
    "    \n",
    "    return model_best , param_best"
   ]
  },
  {
   "cell_type": "code",
   "execution_count": 7,
   "metadata": {},
   "outputs": [
    {
     "data": {
      "text/plain": [
       "(LinearSVC(C=0.01, max_iter=10000), {'C': 0.01})"
      ]
     },
     "execution_count": 7,
     "metadata": {},
     "output_type": "execute_result"
    }
   ],
   "source": [
    "param_grid_SVC = {'C': [0.01, 0.1, 1, 1.2, 1.3, 1.4, 1.5, 2, 3, 4,  5, 10]}\n",
    "\n",
    "best_estimator(LinearSVC(max_iter=10000), param_grid_SVC, X, y, 10)"
   ]
  },
  {
   "cell_type": "code",
   "execution_count": 8,
   "metadata": {},
   "outputs": [
    {
     "name": "stdout",
     "output_type": "stream",
     "text": [
      "----------------------------------------------------------------------------------\n",
      "RepeatedKFold with Linear Support Vector Classification with Hyperparameter Tuning\n",
      "----------------------------------------------------------------------------------\n",
      "Training model  1\n",
      "Training model  2\n",
      "Training model  3\n",
      "Training model  4\n",
      "Training model  5\n",
      "Training model  6\n",
      "Training model  7\n",
      "Training model  8\n",
      "Training model  9\n",
      "Training model  10\n",
      "Finished training.\n",
      "\n",
      "Accuracy score for model 1   0.6569767441860465\n",
      "Accuracy score for model 2   0.7209302325581395\n",
      "Accuracy score for model 3   0.7051282051282052\n",
      "Accuracy score for model 4   0.6835443037974683\n",
      "Accuracy score for model 5   0.72\n",
      "Accuracy score for model 6   0.5138888888888888\n",
      "Accuracy score for model 7   0.6619718309859155\n",
      "Accuracy score for model 8   0.7246376811594203\n",
      "Accuracy score for model 9   0.7108433734939759\n",
      "Accuracy score for model 10   0.6395348837209303\n",
      "\n",
      "Average accuracy score for all models:  0.6737456143918991\n",
      "Maximum accuracy score of all models:  0.7246376811594203\n",
      "Minimum accuracy score of all models:  0.5138888888888888\n"
     ]
    }
   ],
   "source": [
    "from sklearn.svm import LinearSVC\n",
    "import statistics\n",
    "print(\"----------------------------------------------------------------------------------\")\n",
    "print(\"RepeatedKFold with Linear Support Vector Classification with Hyperparameter Tuning\")\n",
    "print(\"----------------------------------------------------------------------------------\")\n",
    "\n",
    "l_svc = LinearSVC(C=0.01, class_weight=None, dual=True, fit_intercept=True,\n",
    "           intercept_scaling=1, loss='squared_hinge', max_iter=10000,\n",
    "           multi_class='ovr', penalty='l2', random_state=None, tol=0.0001,\n",
    "           verbose=0)\n",
    "\n",
    "accuracy = []\n",
    "count = 0\n",
    "for train_index, test_index in logo.split(X,y,groups): \n",
    "    count += 1\n",
    "    X_train, X_test = X[train_index], X[test_index]\n",
    "    y_train, y_test = y[train_index], y[test_index]\n",
    "    print(\"Training model \",count)\n",
    "    l_svc.fit(X_train,y_train)\n",
    "    acc_score = l_svc.score(X_test, y_test)\n",
    "    accuracy.append(acc_score)\n",
    "\n",
    "print(\"Finished training.\\n\")\n",
    "\n",
    "#Mean accuracy of self.predict(X) with regard to y for each model\n",
    "index = 0\n",
    "for a in accuracy: \n",
    "    index += 1\n",
    "    print(\"Accuracy score for model\", index, \" \", a)\n",
    "\n",
    "#Report the average accuracy for all models \n",
    "print(\"\\nAverage accuracy score for all models: \", statistics.mean(accuracy))\n",
    "print(\"Maximum accuracy score of all models: \", max(accuracy))\n",
    "print(\"Minimum accuracy score of all models: \", min(accuracy))"
   ]
  },
  {
   "cell_type": "markdown",
   "metadata": {},
   "source": [
    "**Step 3.2:** k-Nearest Neighbors - KNeighborsClassifier"
   ]
  },
  {
   "cell_type": "code",
   "execution_count": 9,
   "metadata": {},
   "outputs": [
    {
     "name": "stdout",
     "output_type": "stream",
     "text": [
      "--------------------------------------------------\n",
      "RepeatedKFold with K-Nearest Neighbors Classification\n",
      "--------------------------------------------------\n",
      "Training model  1\n",
      "Training model  2\n",
      "Training model  3\n",
      "Training model  4\n",
      "Training model  5\n",
      "Training model  6\n",
      "Training model  7\n",
      "Training model  8\n",
      "Training model  9\n",
      "Training model  10\n",
      "Finished training.\n",
      "\n",
      "Accuracy score for model 1   0.5872093023255814\n",
      "Accuracy score for model 2   0.4883720930232558\n",
      "Accuracy score for model 3   0.48717948717948717\n",
      "Accuracy score for model 4   0.5443037974683544\n",
      "Accuracy score for model 5   0.6266666666666667\n",
      "Accuracy score for model 6   0.5694444444444444\n",
      "Accuracy score for model 7   0.5633802816901409\n",
      "Accuracy score for model 8   0.6666666666666666\n",
      "Accuracy score for model 9   0.4939759036144578\n",
      "Accuracy score for model 10   0.4883720930232558\n",
      "\n",
      "Average accuracy score for all models:  0.5515570736102311\n",
      "Maximum accuracy score of all models:  0.6666666666666666\n",
      "Minimum accuracy score of all models:  0.48717948717948717\n"
     ]
    }
   ],
   "source": [
    "from sklearn.neighbors import KNeighborsClassifier\n",
    "import statistics\n",
    "print(\"--------------------------------------------------\")\n",
    "print(\"RepeatedKFold with K-Nearest Neighbors Classification\")\n",
    "print(\"--------------------------------------------------\")\n",
    "\n",
    "knn = KNeighborsClassifier()\n",
    "\n",
    "accuracy = []\n",
    "count = 0\n",
    "for train_index, test_index in logo.split(X,y,groups): \n",
    "    count += 1\n",
    "    X_train, X_test = X[train_index], X[test_index]\n",
    "    y_train, y_test = y[train_index], y[test_index]\n",
    "    print(\"Training model \",count)\n",
    "    knn.fit(X_train,y_train)\n",
    "    acc_score = knn.score(X_test, y_test)\n",
    "    accuracy.append(acc_score)\n",
    "\n",
    "print(\"Finished training.\\n\")\n",
    "\n",
    "#Mean accuracy of self.predict(X) with regard to y for each model\n",
    "index = 0\n",
    "for a in accuracy: \n",
    "    index += 1\n",
    "    print(\"Accuracy score for model\", index, \" \", a)\n",
    "\n",
    "#Report the average accuracy for all models \n",
    "print(\"\\nAverage accuracy score for all models: \", statistics.mean(accuracy))\n",
    "print(\"Maximum accuracy score of all models: \", max(accuracy))\n",
    "print(\"Minimum accuracy score of all models: \", min(accuracy))"
   ]
  },
  {
   "cell_type": "code",
   "execution_count": 10,
   "metadata": {},
   "outputs": [
    {
     "data": {
      "text/plain": [
       "(KNeighborsClassifier(n_neighbors=25),\n",
       " {'algorithm': 'auto', 'n_neighbors': 25})"
      ]
     },
     "execution_count": 10,
     "metadata": {},
     "output_type": "execute_result"
    }
   ],
   "source": [
    "from sklearn.neighbors import KNeighborsClassifier\n",
    "\n",
    "model_KNN = KNeighborsClassifier()\n",
    "\n",
    "param_grid = {'n_neighbors': [1, 2 , 3, 4, 6, 10, 15, 20, 25, 30, 50, 100],\n",
    "              'algorithm':['auto', 'kd_tree']}\n",
    "\n",
    "best_estimator(model_KNN, param_grid, X, y, 10)"
   ]
  },
  {
   "cell_type": "code",
   "execution_count": 11,
   "metadata": {},
   "outputs": [
    {
     "name": "stdout",
     "output_type": "stream",
     "text": [
      "--------------------------------------------------------------------------------\n",
      "RepeatedKFold with K-Nearest Neighbors Classification with Hyperparameter Tuning\n",
      "--------------------------------------------------------------------------------\n",
      "Training model  1\n",
      "Training model  2\n",
      "Training model  3\n",
      "Training model  4\n",
      "Training model  5\n",
      "Training model  6\n",
      "Training model  7\n",
      "Training model  8\n",
      "Training model  9\n",
      "Training model  10\n",
      "Finished training.\n",
      "\n",
      "Accuracy score for model 1   0.563953488372093\n",
      "Accuracy score for model 2   0.47674418604651164\n",
      "Accuracy score for model 3   0.6025641025641025\n",
      "Accuracy score for model 4   0.569620253164557\n",
      "Accuracy score for model 5   0.6533333333333333\n",
      "Accuracy score for model 6   0.5972222222222222\n",
      "Accuracy score for model 7   0.5774647887323944\n",
      "Accuracy score for model 8   0.5362318840579711\n",
      "Accuracy score for model 9   0.5421686746987951\n",
      "Accuracy score for model 10   0.6046511627906976\n",
      "\n",
      "Average accuracy score for all models:  0.5723954095982678\n",
      "Maximum accuracy score of all models:  0.6533333333333333\n",
      "Minimum accuracy score of all models:  0.47674418604651164\n"
     ]
    }
   ],
   "source": [
    "from sklearn.neighbors import KNeighborsClassifier\n",
    "import statistics\n",
    "print(\"--------------------------------------------------------------------------------\")\n",
    "print(\"RepeatedKFold with K-Nearest Neighbors Classification with Hyperparameter Tuning\")\n",
    "print(\"--------------------------------------------------------------------------------\")\n",
    "\n",
    "knn = KNeighborsClassifier(algorithm='auto', leaf_size=30, metric='minkowski',\n",
    "                      metric_params=None, n_jobs=None, n_neighbors=25, p=2,\n",
    "                      weights='uniform')\n",
    "\n",
    "accuracy = []\n",
    "count = 0\n",
    "for train_index, test_index in logo.split(X,y,groups): \n",
    "    count += 1\n",
    "    X_train, X_test = X[train_index], X[test_index]\n",
    "    y_train, y_test = y[train_index], y[test_index]\n",
    "    print(\"Training model \",count)\n",
    "    knn.fit(X_train,y_train)\n",
    "    acc_score = knn.score(X_test, y_test)\n",
    "    accuracy.append(acc_score)\n",
    "\n",
    "print(\"Finished training.\\n\")\n",
    "\n",
    "#Mean accuracy of self.predict(X) with regard to y for each model\n",
    "index = 0\n",
    "for a in accuracy: \n",
    "    index += 1\n",
    "    print(\"Accuracy score for model\", index, \" \", a)\n",
    "\n",
    "#Report the average accuracy for all models \n",
    "print(\"\\nAverage accuracy score for all models: \", statistics.mean(accuracy))\n",
    "print(\"Maximum accuracy score of all models: \", max(accuracy))\n",
    "print(\"Minimum accuracy score of all models: \", min(accuracy))"
   ]
  },
  {
   "cell_type": "markdown",
   "metadata": {},
   "source": [
    "**Step 3.3:** Decision Tree - DecisionTreeClassifier"
   ]
  },
  {
   "cell_type": "code",
   "execution_count": 12,
   "metadata": {},
   "outputs": [
    {
     "name": "stdout",
     "output_type": "stream",
     "text": [
      "--------------------------------------------\n",
      "RepeatedKFold with Decision Tree Classification\n",
      "--------------------------------------------\n",
      "Training model  1\n",
      "Training model  2\n",
      "Training model  3\n",
      "Training model  4\n",
      "Training model  5\n",
      "Training model  6\n",
      "Training model  7\n",
      "Training model  8\n",
      "Training model  9\n",
      "Training model  10\n",
      "Finished training.\n",
      "\n",
      "Accuracy score for model 1   0.5755813953488372\n",
      "Accuracy score for model 2   0.5232558139534884\n",
      "Accuracy score for model 3   0.48717948717948717\n",
      "Accuracy score for model 4   0.46835443037974683\n",
      "Accuracy score for model 5   0.56\n",
      "Accuracy score for model 6   0.4861111111111111\n",
      "Accuracy score for model 7   0.5352112676056338\n",
      "Accuracy score for model 8   0.4927536231884058\n",
      "Accuracy score for model 9   0.6385542168674698\n",
      "Accuracy score for model 10   0.6162790697674418\n",
      "\n",
      "Average accuracy score for all models:  0.5383280415401622\n",
      "Maximum accuracy score of all models:  0.6385542168674698\n",
      "Minimum accuracy score of all models:  0.46835443037974683\n"
     ]
    }
   ],
   "source": [
    "from sklearn.tree import DecisionTreeClassifier\n",
    "import statistics\n",
    "print(\"--------------------------------------------\")\n",
    "print(\"RepeatedKFold with Decision Tree Classification\")\n",
    "print(\"--------------------------------------------\")\n",
    "\n",
    "dt = DecisionTreeClassifier()\n",
    "\n",
    "accuracy = []\n",
    "count = 0\n",
    "for train_index, test_index in logo.split(X,y,groups): \n",
    "    count += 1\n",
    "    X_train, X_test = X[train_index], X[test_index]\n",
    "    y_train, y_test = y[train_index], y[test_index]\n",
    "    print(\"Training model \",count)\n",
    "    dt.fit(X_train,y_train)\n",
    "    acc_score = dt.score(X_test, y_test)\n",
    "    accuracy.append(acc_score)\n",
    "\n",
    "print(\"Finished training.\\n\")\n",
    "\n",
    "#Mean accuracy of self.predict(X) with regard to y for each model\n",
    "index = 0\n",
    "for a in accuracy: \n",
    "    index += 1\n",
    "    print(\"Accuracy score for model\", index, \" \", a)\n",
    "\n",
    "#Report the average accuracy for all models \n",
    "print(\"\\nAverage accuracy score for all models: \", statistics.mean(accuracy))\n",
    "print(\"Maximum accuracy score of all models: \", max(accuracy))\n",
    "print(\"Minimum accuracy score of all models: \", min(accuracy))"
   ]
  },
  {
   "cell_type": "code",
   "execution_count": 13,
   "metadata": {},
   "outputs": [
    {
     "data": {
      "text/plain": [
       "(DecisionTreeClassifier(max_depth=5), {'max_depth': 5})"
      ]
     },
     "execution_count": 13,
     "metadata": {},
     "output_type": "execute_result"
    }
   ],
   "source": [
    "from sklearn.tree import DecisionTreeClassifier\n",
    "#Hyperparameter tuning for DecisioTree Classifier\n",
    "model_tree = DecisionTreeClassifier()\n",
    "param_grid = {'max_depth': [1, 2 , 3, 4, 5, 6, 10]}\n",
    "\n",
    "best_estimator(model_tree, param_grid, X, y, 10)"
   ]
  },
  {
   "cell_type": "code",
   "execution_count": 14,
   "metadata": {},
   "outputs": [
    {
     "name": "stdout",
     "output_type": "stream",
     "text": [
      "-------------------------------------------------------------------------\n",
      "RepeatedKFold with Decision Tree Classification with Hyperparameter Tuning\n",
      "--------------------------------------------------------------------------\n",
      "Training model  1\n",
      "Training model  2\n",
      "Training model  3\n",
      "Training model  4\n",
      "Training model  5\n",
      "Training model  6\n",
      "Training model  7\n",
      "Training model  8\n",
      "Training model  9\n",
      "Training model  10\n",
      "Finished training.\n",
      "\n",
      "Accuracy score for model 1   0.6162790697674418\n",
      "Accuracy score for model 2   0.5465116279069767\n",
      "Accuracy score for model 3   0.5512820512820513\n",
      "Accuracy score for model 4   0.5443037974683544\n",
      "Accuracy score for model 5   0.64\n",
      "Accuracy score for model 6   0.5694444444444444\n",
      "Accuracy score for model 7   0.6056338028169014\n",
      "Accuracy score for model 8   0.5507246376811594\n",
      "Accuracy score for model 9   0.6024096385542169\n",
      "Accuracy score for model 10   0.5930232558139535\n",
      "\n",
      "Average accuracy score for all models:  0.58196123257355\n",
      "Maximum accuracy score of all models:  0.64\n",
      "Minimum accuracy score of all models:  0.5443037974683544\n"
     ]
    }
   ],
   "source": [
    "from sklearn.tree import DecisionTreeClassifier\n",
    "import statistics\n",
    "print(\"-------------------------------------------------------------------------\")\n",
    "print(\"RepeatedKFold with Decision Tree Classification with Hyperparameter Tuning\")\n",
    "print(\"--------------------------------------------------------------------------\")\n",
    "\n",
    "dt = DecisionTreeClassifier(ccp_alpha=0.0, class_weight=None, criterion='gini',\n",
    "                        max_depth=5, max_features=None, max_leaf_nodes=None,\n",
    "                        min_impurity_decrease=0.0, min_impurity_split=None,\n",
    "                        min_samples_leaf=1, min_samples_split=2,\n",
    "                        min_weight_fraction_leaf=0.0, presort='deprecated',\n",
    "                        random_state=None, splitter='best')\n",
    "\n",
    "accuracy = []\n",
    "count = 0\n",
    "for train_index, test_index in logo.split(X,y,groups): \n",
    "    count += 1\n",
    "    X_train, X_test = X[train_index], X[test_index]\n",
    "    y_train, y_test = y[train_index], y[test_index]\n",
    "    print(\"Training model \",count)\n",
    "    dt.fit(X_train,y_train)\n",
    "    acc_score = dt.score(X_test, y_test)\n",
    "    accuracy.append(acc_score)\n",
    "\n",
    "print(\"Finished training.\\n\")\n",
    "\n",
    "#Mean accuracy of self.predict(X) with regard to y for each model\n",
    "index = 0\n",
    "for a in accuracy: \n",
    "    index += 1\n",
    "    print(\"Accuracy score for model\", index, \" \", a)\n",
    "\n",
    "#Report the average accuracy for all models \n",
    "print(\"\\nAverage accuracy score for all models: \", statistics.mean(accuracy))\n",
    "print(\"Maximum accuracy score of all models: \", max(accuracy))\n",
    "print(\"Minimum accuracy score of all models: \", min(accuracy))"
   ]
  },
  {
   "cell_type": "markdown",
   "metadata": {},
   "source": [
    "**Step 3.4:** Random Forests - RandomForestClassifier"
   ]
  },
  {
   "cell_type": "code",
   "execution_count": 15,
   "metadata": {},
   "outputs": [
    {
     "name": "stdout",
     "output_type": "stream",
     "text": [
      "--------------------------------------------\n",
      "RepeatedKFold with Random Forest Classification\n",
      "--------------------------------------------\n",
      "Training model  1\n",
      "Training model  2\n",
      "Training model  3\n",
      "Training model  4\n",
      "Training model  5\n",
      "Training model  6\n",
      "Training model  7\n",
      "Training model  8\n",
      "Training model  9\n",
      "Training model  10\n",
      "Finished training.\n",
      "\n",
      "Accuracy score for model 1   0.563953488372093\n",
      "Accuracy score for model 2   0.5232558139534884\n",
      "Accuracy score for model 3   0.41025641025641024\n",
      "Accuracy score for model 4   0.5316455696202531\n",
      "Accuracy score for model 5   0.5733333333333334\n",
      "Accuracy score for model 6   0.5138888888888888\n",
      "Accuracy score for model 7   0.6338028169014085\n",
      "Accuracy score for model 8   0.5362318840579711\n",
      "Accuracy score for model 9   0.5542168674698795\n",
      "Accuracy score for model 10   0.5581395348837209\n",
      "\n",
      "Average accuracy score for all models:  0.5398724607737447\n",
      "Maximum accuracy score of all models:  0.6338028169014085\n",
      "Minimum accuracy score of all models:  0.41025641025641024\n"
     ]
    }
   ],
   "source": [
    "from sklearn.ensemble import RandomForestClassifier\n",
    "import statistics\n",
    "print(\"--------------------------------------------\")\n",
    "print(\"RepeatedKFold with Random Forest Classification\")\n",
    "print(\"--------------------------------------------\")\n",
    "\n",
    "rf = RandomForestClassifier()\n",
    "\n",
    "accuracy = []\n",
    "count = 0\n",
    "for train_index, test_index in logo.split(X,y,groups): \n",
    "    count += 1\n",
    "    X_train, X_test = X[train_index], X[test_index]\n",
    "    y_train, y_test = y[train_index], y[test_index]\n",
    "    print(\"Training model \",count)\n",
    "    rf.fit(X_train,y_train)\n",
    "    acc_score = rf.score(X_test, y_test)\n",
    "    accuracy.append(acc_score)\n",
    "\n",
    "print(\"Finished training.\\n\")\n",
    "\n",
    "#Mean accuracy of self.predict(X) with regard to y for each model\n",
    "index = 0\n",
    "for a in accuracy: \n",
    "    index += 1\n",
    "    print(\"Accuracy score for model\", index, \" \", a)\n",
    "\n",
    "#Report the average accuracy for all models \n",
    "print(\"\\nAverage accuracy score for all models: \", statistics.mean(accuracy))\n",
    "print(\"Maximum accuracy score of all models: \", max(accuracy))\n",
    "print(\"Minimum accuracy score of all models: \", min(accuracy))"
   ]
  },
  {
   "cell_type": "code",
   "execution_count": 16,
   "metadata": {},
   "outputs": [
    {
     "name": "stdout",
     "output_type": "stream",
     "text": [
      "-------------------------------------------------------------------------\n",
      "RepeatedKFold with Random Forest Classification with Hyperparameter Tuning\n",
      "-------------------------------------------------------------------------\n",
      "Training model  1\n",
      "Training model  2\n",
      "Training model  3\n",
      "Training model  4\n",
      "Training model  5\n",
      "Training model  6\n",
      "Training model  7\n",
      "Training model  8\n",
      "Training model  9\n",
      "Training model  10\n",
      "Finished training.\n",
      "\n",
      "Accuracy score for model 1   0.6162790697674418\n",
      "Accuracy score for model 2   0.6744186046511628\n",
      "Accuracy score for model 3   0.3974358974358974\n",
      "Accuracy score for model 4   0.569620253164557\n",
      "Accuracy score for model 5   0.5866666666666667\n",
      "Accuracy score for model 6   0.5138888888888888\n",
      "Accuracy score for model 7   0.6338028169014085\n",
      "Accuracy score for model 8   0.5072463768115942\n",
      "Accuracy score for model 9   0.6385542168674698\n",
      "Accuracy score for model 10   0.6046511627906976\n",
      "\n",
      "Average accuracy score for all models:  0.5742563953945785\n",
      "Maximum accuracy score of all models:  0.6744186046511628\n",
      "Minimum accuracy score of all models:  0.3974358974358974\n"
     ]
    }
   ],
   "source": [
    "from sklearn.ensemble import RandomForestClassifier\n",
    "import statistics\n",
    "print(\"-------------------------------------------------------------------------\")\n",
    "print(\"RepeatedKFold with Random Forest Classification with Hyperparameter Tuning\")\n",
    "print(\"-------------------------------------------------------------------------\")\n",
    "\n",
    "rf = RandomForestClassifier(n_estimators=400)\n",
    "\n",
    "accuracy = []\n",
    "count = 0\n",
    "for train_index, test_index in logo.split(X,y,groups): \n",
    "    count += 1\n",
    "    X_train, X_test = X[train_index], X[test_index]\n",
    "    y_train, y_test = y[train_index], y[test_index]\n",
    "    print(\"Training model \",count)\n",
    "    rf.fit(X_train,y_train)\n",
    "    acc_score = rf.score(X_test, y_test)\n",
    "    accuracy.append(acc_score)\n",
    "\n",
    "print(\"Finished training.\\n\")\n",
    "\n",
    "#Mean accuracy of self.predict(X) with regard to y for each model\n",
    "index = 0\n",
    "for a in accuracy: \n",
    "    index += 1\n",
    "    print(\"Accuracy score for model\", index, \" \", a)\n",
    "\n",
    "#Report the average accuracy for all models \n",
    "print(\"\\nAverage accuracy score for all models: \", statistics.mean(accuracy))\n",
    "print(\"Maximum accuracy score of all models: \", max(accuracy))\n",
    "print(\"Minimum accuracy score of all models: \", min(accuracy))"
   ]
  },
  {
   "cell_type": "code",
   "execution_count": null,
   "metadata": {},
   "outputs": [],
   "source": []
  }
 ],
 "metadata": {
  "kernelspec": {
   "display_name": "Python 3",
   "language": "python",
   "name": "python3"
  },
  "language_info": {
   "codemirror_mode": {
    "name": "ipython",
    "version": 3
   },
   "file_extension": ".py",
   "mimetype": "text/x-python",
   "name": "python",
   "nbconvert_exporter": "python",
   "pygments_lexer": "ipython3",
   "version": "3.7.6"
  }
 },
 "nbformat": 4,
 "nbformat_minor": 4
}
